{
 "cells": [
  {
   "cell_type": "markdown",
   "metadata": {},
   "source": [
    "# [View in nbviewer to see the interactive chart](https://nbviewer.org/github/HighTechnologyFoundation/HTFCloudFellows/blob/Justin-Lin/USGS%20-%20Earthquake/Earthquake_analysis.ipynb)\n",
    "\n",
    "# Analysis and Visualization using Earthquake Data from [United States Geological Survey (USGS)](https://earthquake.usgs.gov/earthquakes/search/)\n",
    "\n",
    "## Task 1: Exploratory Data Analysis of Earthquakes with Magnitude > 6.5 (1900-2023)\n",
    "\n",
    "1. Utilize `sweetviz` to generate an interactive dashboard for visualizing earthquake data.\n",
    "2. Extract country names from the text data using the `pycountry` package.\n",
    "3. Create two subplots to display earthquake counts for the top ten countries and each year.\n",
    "\n",
    "## Task 2: Exploratory Data Analysis of Earthquakes in Taiwan (03/2024-04/2024)\n",
    "\n",
    "1. Perform date-time processing on the data.\n",
    "2. Utilize various plotting libraries to create maps:\n",
    "\t* `matplotlib` for static images.\n",
    "\t* `plotly` for interactive visualizations.\n",
    "\t* `geopandas` for geospatial analysis and visualization.\n",
    "\t* `pygmt` for high-performance geographic mapping.\n",
    "---"
   ]
  },
  {
   "cell_type": "markdown",
   "metadata": {},
   "source": [
    "## Task 1"
   ]
  },
  {
   "cell_type": "code",
   "execution_count": null,
   "metadata": {},
   "outputs": [],
   "source": [
    "import pandas as pd\n",
    "pd.set_option('display.max_columns', None)\n",
    "\n",
    "df = pd.read_csv('mag6.5+.csv')\n",
    "df['year'] = pd.to_datetime(df.time).dt.year\n",
    "df.head()"
   ]
  },
  {
   "cell_type": "code",
   "execution_count": null,
   "metadata": {},
   "outputs": [],
   "source": [
    "import sweetviz as sv\n",
    "\n",
    "analyze_report = sv.analyze(df)\n",
    "analyze_report.show_html('report.html')"
   ]
  },
  {
   "cell_type": "markdown",
   "metadata": {},
   "source": [
    "<div align=center>\n",
    "<img src=\"sweetviz_output.png\" width=\"900\"/>\n",
    "</div>"
   ]
  },
  {
   "cell_type": "code",
   "execution_count": 3,
   "metadata": {},
   "outputs": [],
   "source": [
    "import pycountry\n",
    "\n",
    "def findCountry(stringText):\n",
    "    countries = sorted([country.name for country in pycountry.countries] , key=lambda x: -len(x))\n",
    "    for country in countries:\n",
    "        if country.lower() in stringText.lower():\n",
    "            return country\n",
    "    if 'Taiwan' in stringText:\n",
    "        return 'Taiwan'\n",
    "    return None"
   ]
  },
  {
   "cell_type": "code",
   "execution_count": 4,
   "metadata": {},
   "outputs": [],
   "source": [
    "country_list = [findCountry(df.place[i]) for i in range(len(df.place))]\n",
    "data = {'year' : df.year, 'country' : country_list, 'magnitude' : df.mag}\n",
    "modified_df = pd.DataFrame(data)"
   ]
  },
  {
   "cell_type": "code",
   "execution_count": null,
   "metadata": {},
   "outputs": [],
   "source": [
    "import matplotlib.pyplot as plt\n",
    "plt.style.use('ggplot')\n",
    "\n",
    "fig, axs = plt.subplots(1, 2, figsize=(18, 8))\n",
    "\n",
    "modified_df.country.value_counts().sort_values().tail(15).plot(kind='barh', color = 'tab:blue', ax = axs[0])\n",
    "modified_df.year.value_counts().sort_index().plot(kind='line', color = 'tab:blue', ax = axs[1])\n",
    "axs[0].set_title('Top ten countries with most earthquakes (magnitude 6.5+)\\nfrom year 1900 to present')\n",
    "axs[0].set_ylabel('')\n",
    "axs[1].set_title('Earthquake (magnitude 6.5+) counts from year 1900 to present')\n",
    "axs[1].tick_params(axis='x', labelrotation=45)\n",
    "axs[1].set_xlabel('')\n",
    "axs[1].axhline(y=df.shape[0] / len(df.year.unique()), color='red', linestyle='--', alpha=0.5)\n",
    "\n",
    "plt.show()"
   ]
  },
  {
   "cell_type": "markdown",
   "metadata": {},
   "source": [
    "## Task 2"
   ]
  },
  {
   "cell_type": "code",
   "execution_count": null,
   "metadata": {},
   "outputs": [],
   "source": [
    "df = pd.read_csv('query.csv')\n",
    "\n",
    "df['date'] = pd.to_datetime(df.time).dt.strftime('%Y/%m/%d')\n",
    "\n",
    "df['time'] = pd.to_datetime(df.time).dt.strftime('%H:%M:%S')\n",
    "\n",
    "df = df[['date', 'time', 'latitude', 'longitude', 'depth', 'mag', 'place']].rename(columns = {'mag' : 'magnitude'})\n",
    "\n",
    "df.head()"
   ]
  },
  {
   "cell_type": "code",
   "execution_count": null,
   "metadata": {},
   "outputs": [],
   "source": [
    "import plotly.express as px\n",
    "from plotly.offline import init_notebook_mode\n",
    "init_notebook_mode(connected=True)\n",
    "import plotly.io as pio\n",
    "pio.renderers.default = 'notebook'\n",
    "\n",
    "fig = px.scatter_geo(df, lat='latitude',\n",
    "                     lon='longitude',\n",
    "                     color=\"magnitude\",\n",
    "                     hover_name = 'place',\n",
    "                     fitbounds='locations'\n",
    "                     )\n",
    "\n",
    "fig.update_geos(projection_type=\"natural earth\")\n",
    "\n",
    "fig.update_layout(title_text = f'Earthquake (magnitude > 2.5) from {min(df.date)} to {max(df.date)}', title_x=0.5)\n",
    "\n",
    "fig.show()"
   ]
  },
  {
   "cell_type": "code",
   "execution_count": null,
   "metadata": {},
   "outputs": [],
   "source": [
    "import geopandas as gpd\n",
    "\n",
    "df_Taiwan = df[df.place.str.contains('Taiwan')]\n",
    "\n",
    "gdf = gpd.GeoDataFrame(\n",
    "    df_Taiwan, geometry=gpd.points_from_xy(df_Taiwan.longitude, df_Taiwan.latitude), crs=\"EPSG:4326\"\n",
    ")\n",
    "\n",
    "gdf.explore('magnitude')"
   ]
  },
  {
   "cell_type": "code",
   "execution_count": null,
   "metadata": {},
   "outputs": [],
   "source": [
    "import pygmt\n",
    "\n",
    "region = [\n",
    "    df_Taiwan.longitude.min() - 1,\n",
    "    df_Taiwan.longitude.max() + 1,\n",
    "    df_Taiwan.latitude.min() - 1,\n",
    "    df_Taiwan.latitude.max() + 1,\n",
    "]\n",
    "\n",
    "fig = pygmt.Figure()\n",
    "\n",
    "fig.coast(region=region, shorelines=True, land=\"lightgreen\", water=\"lightblue\")\n",
    "\n",
    "fig.basemap(frame=[\"afg\", f'+tEarthquake in Taiwan from {min(df_Taiwan.date)} to {max(df_Taiwan.date)}'])\n",
    "\n",
    "pygmt.makecpt(cmap=\"plasma\", series=[df_Taiwan.depth.min(), df_Taiwan.depth.max()])\n",
    "\n",
    "fig.plot(\n",
    "    x=df_Taiwan.longitude,\n",
    "    y=df_Taiwan.latitude,\n",
    "    fill=df_Taiwan.depth,\n",
    "    cmap = True,\n",
    "    style=\"c0.3c\",\n",
    "    pen=\"black\"\n",
    ")\n",
    "fig.colorbar(frame=[\"a\", \"y+lDepth (km)\"])\n",
    "fig.show()"
   ]
  },
  {
   "cell_type": "code",
   "execution_count": null,
   "metadata": {},
   "outputs": [],
   "source": [
    "fig = pygmt.Figure()\n",
    "\n",
    "# make color pallets\n",
    "pygmt.makecpt(\n",
    "    cmap='etopo1',\n",
    "    series='-8000/5000/1000', #min elevation of -8000m and max of 5000m\n",
    "    continuous=True\n",
    ")\n",
    "# define etopo df_Taiwan file\n",
    "topo_df_Taiwan = \"@earth_relief_30s\"\n",
    "# plot high res topography\n",
    "fig.grdimage(\n",
    "    grid=topo_df_Taiwan,\n",
    "    region=region,\n",
    "    projection='M4i',\n",
    "    shading=True,\n",
    "    frame=True\n",
    ")\n",
    "\n",
    "fig.coast(shorelines=True, frame=True)\n",
    "\n",
    "# colorbar colormap\n",
    "pygmt.makecpt(cmap=\"jet\", series=[\n",
    "              df_Taiwan.depth.min(), df_Taiwan.depth.max()])\n",
    "fig.plot(\n",
    "    x=df_Taiwan.longitude,\n",
    "    y=df_Taiwan.latitude,\n",
    "    size=0.1*df_Taiwan.magnitude,\n",
    "    fill=df_Taiwan.depth,\n",
    "    cmap=True,\n",
    "    style=\"cc\",\n",
    "    pen=\"black\",\n",
    ")\n",
    "\n",
    "fig.basemap(frame=f'+tEarthquake in Taiwan from {min(df_Taiwan.date)} to {max(df_Taiwan.date)}')\n",
    "\n",
    "fig.colorbar(frame='af+l\"Depth (km)\"')\n",
    "\n",
    "fig.show()"
   ]
  }
 ],
 "metadata": {
  "kernelspec": {
   "display_name": "testenv",
   "language": "python",
   "name": "python3"
  },
  "language_info": {
   "codemirror_mode": {
    "name": "ipython",
    "version": 3
   },
   "file_extension": ".py",
   "mimetype": "text/x-python",
   "name": "python",
   "nbconvert_exporter": "python",
   "pygments_lexer": "ipython3",
   "version": "3.11.8"
  }
 },
 "nbformat": 4,
 "nbformat_minor": 2
}
